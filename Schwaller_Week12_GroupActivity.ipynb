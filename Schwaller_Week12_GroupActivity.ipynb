{
 "cells": [
  {
   "cell_type": "markdown",
   "metadata": {},
   "source": [
    "1. Write a Python program to rearrange positive and negative numbers in a given list using Lambda and map()\n",
    "\n",
    "Sample output:\n",
    "\n",
    "original_list = [-1,2,-3,4,-5,6,-7,8,-9,10,-11,12] \n",
    "\n",
    "resulting_list = [2,4,6,8,10,12,-11,-9,-7,-5,-3,-1]"
   ]
  },
  {
   "cell_type": "code",
   "execution_count": 1,
   "metadata": {},
   "outputs": [],
   "source": [
    "import numpy as np\n",
    "import pandas as pd"
   ]
  },
  {
   "cell_type": "code",
   "execution_count": 52,
   "metadata": {},
   "outputs": [
    {
     "data": {
      "text/plain": [
       "[2, 4, 6, 8, 10, 12, -11, -9, -7, -5, -3, -1]"
      ]
     },
     "execution_count": 52,
     "metadata": {},
     "output_type": "execute_result"
    }
   ],
   "source": [
    "original_list = [-1,2,-3,4,-5,6,-7,8,-9,10,-11,12]\n",
    "\n",
    "positive = lambda x: [x for x in original_list if x >= 0]\n",
    "new_positive = positive(original_list)\n",
    "\n",
    "negative = lambda x: [x for x in original_list if x < 0]\n",
    "new_negative = sorted(negative(original_list))\n",
    "\n",
    "resulting_list = new_positive + new_negative\n",
    "\n",
    "resulting_list"
   ]
  },
  {
   "cell_type": "markdown",
   "metadata": {},
   "source": [
    "2. Create a new dataframe using week_11/temperatures/temperature.csv file from last class. It should have the datetime column and one of the cities. Create a new boolean column called is_freezing that indicates if the temperature is at or below freezing. Use a lambda to create this column. Is there a better way to do this than with a lambda?"
   ]
  },
  {
   "cell_type": "code",
   "execution_count": 53,
   "metadata": {},
   "outputs": [
    {
     "data": {
      "text/html": [
       "<div>\n",
       "<style scoped>\n",
       "    .dataframe tbody tr th:only-of-type {\n",
       "        vertical-align: middle;\n",
       "    }\n",
       "\n",
       "    .dataframe tbody tr th {\n",
       "        vertical-align: top;\n",
       "    }\n",
       "\n",
       "    .dataframe thead th {\n",
       "        text-align: right;\n",
       "    }\n",
       "</style>\n",
       "<table border=\"1\" class=\"dataframe\">\n",
       "  <thead>\n",
       "    <tr style=\"text-align: right;\">\n",
       "      <th></th>\n",
       "      <th>datetime</th>\n",
       "      <th>Kansas City</th>\n",
       "      <th>is_freezing</th>\n",
       "    </tr>\n",
       "  </thead>\n",
       "  <tbody>\n",
       "    <tr>\n",
       "      <th>168</th>\n",
       "      <td>2012-10-08 12:00:00</td>\n",
       "      <td>272.78</td>\n",
       "      <td>True</td>\n",
       "    </tr>\n",
       "    <tr>\n",
       "      <th>645</th>\n",
       "      <td>2012-10-28 09:00:00</td>\n",
       "      <td>273.07</td>\n",
       "      <td>True</td>\n",
       "    </tr>\n",
       "    <tr>\n",
       "      <th>646</th>\n",
       "      <td>2012-10-28 10:00:00</td>\n",
       "      <td>272.99</td>\n",
       "      <td>True</td>\n",
       "    </tr>\n",
       "    <tr>\n",
       "      <th>647</th>\n",
       "      <td>2012-10-28 11:00:00</td>\n",
       "      <td>272.99</td>\n",
       "      <td>True</td>\n",
       "    </tr>\n",
       "    <tr>\n",
       "      <th>648</th>\n",
       "      <td>2012-10-28 12:00:00</td>\n",
       "      <td>272.99</td>\n",
       "      <td>True</td>\n",
       "    </tr>\n",
       "    <tr>\n",
       "      <th>...</th>\n",
       "      <td>...</td>\n",
       "      <td>...</td>\n",
       "      <td>...</td>\n",
       "    </tr>\n",
       "    <tr>\n",
       "      <th>45074</th>\n",
       "      <td>2017-11-22 14:00:00</td>\n",
       "      <td>266.25</td>\n",
       "      <td>True</td>\n",
       "    </tr>\n",
       "    <tr>\n",
       "      <th>45075</th>\n",
       "      <td>2017-11-22 15:00:00</td>\n",
       "      <td>267.29</td>\n",
       "      <td>True</td>\n",
       "    </tr>\n",
       "    <tr>\n",
       "      <th>45076</th>\n",
       "      <td>2017-11-22 16:00:00</td>\n",
       "      <td>269.47</td>\n",
       "      <td>True</td>\n",
       "    </tr>\n",
       "    <tr>\n",
       "      <th>45077</th>\n",
       "      <td>2017-11-22 17:00:00</td>\n",
       "      <td>271.15</td>\n",
       "      <td>True</td>\n",
       "    </tr>\n",
       "    <tr>\n",
       "      <th>45078</th>\n",
       "      <td>2017-11-22 18:00:00</td>\n",
       "      <td>272.97</td>\n",
       "      <td>True</td>\n",
       "    </tr>\n",
       "  </tbody>\n",
       "</table>\n",
       "<p>6312 rows × 3 columns</p>\n",
       "</div>"
      ],
      "text/plain": [
       "                  datetime  Kansas City  is_freezing\n",
       "168    2012-10-08 12:00:00       272.78         True\n",
       "645    2012-10-28 09:00:00       273.07         True\n",
       "646    2012-10-28 10:00:00       272.99         True\n",
       "647    2012-10-28 11:00:00       272.99         True\n",
       "648    2012-10-28 12:00:00       272.99         True\n",
       "...                    ...          ...          ...\n",
       "45074  2017-11-22 14:00:00       266.25         True\n",
       "45075  2017-11-22 15:00:00       267.29         True\n",
       "45076  2017-11-22 16:00:00       269.47         True\n",
       "45077  2017-11-22 17:00:00       271.15         True\n",
       "45078  2017-11-22 18:00:00       272.97         True\n",
       "\n",
       "[6312 rows x 3 columns]"
      ]
     },
     "execution_count": 53,
     "metadata": {},
     "output_type": "execute_result"
    }
   ],
   "source": [
    "temp_df = pd.read_csv(\"temperature.csv\")\n",
    "\n",
    "new_temp_df = temp_df[[\"datetime\", \"Kansas City\"]]\n",
    "\n",
    "new_temp_df = new_temp_df.assign(is_freezing = lambda x: (x[\"Kansas City\"] <= 273.15))\n",
    "new_temp_df[new_temp_df[\"is_freezing\"] == True]"
   ]
  }
 ],
 "metadata": {
  "kernelspec": {
   "display_name": "Python 3",
   "language": "python",
   "name": "python3"
  },
  "language_info": {
   "codemirror_mode": {
    "name": "ipython",
    "version": 3
   },
   "file_extension": ".py",
   "mimetype": "text/x-python",
   "name": "python",
   "nbconvert_exporter": "python",
   "pygments_lexer": "ipython3",
   "version": "3.8.5"
  }
 },
 "nbformat": 4,
 "nbformat_minor": 4
}
